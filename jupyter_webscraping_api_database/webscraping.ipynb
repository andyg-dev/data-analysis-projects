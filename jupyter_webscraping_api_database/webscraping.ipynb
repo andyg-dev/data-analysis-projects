{
 "cells": [
  {
   "cell_type": "code",
   "execution_count": 3,
   "id": "850f5432-e308-4a58-8112-35b04e94f9dc",
   "metadata": {},
   "outputs": [],
   "source": [
    "import requests\n",
    "from bs4 import BeautifulSoup"
   ]
  },
  {
   "cell_type": "code",
   "execution_count": 23,
   "id": "936f780e-3bdf-4a66-9c4e-7069f0105e22",
   "metadata": {},
   "outputs": [
    {
     "name": "stdout",
     "output_type": "stream",
     "text": [
      "1. \"“The world as we have created it is a process of our thinking. It cannot be changed without changing our thinking.”\" - Albert Einstein\n",
      "   Tags: change, deep-thoughts, thinking, world\n",
      "\n",
      "2. \"“It is our choices, Harry, that show what we truly are, far more than our abilities.”\" - J.K. Rowling\n",
      "   Tags: abilities, choices\n",
      "\n",
      "3. \"“There are only two ways to live your life. One is as though nothing is a miracle. The other is as though everything is a miracle.”\" - Albert Einstein\n",
      "   Tags: inspirational, life, live, miracle, miracles\n",
      "\n",
      "4. \"“The person, be it gentleman or lady, who has not pleasure in a good novel, must be intolerably stupid.”\" - Jane Austen\n",
      "   Tags: aliteracy, books, classic, humor\n",
      "\n",
      "5. \"“Imperfection is beauty, madness is genius and it's better to be absolutely ridiculous than absolutely boring.”\" - Marilyn Monroe\n",
      "   Tags: be-yourself, inspirational\n",
      "\n",
      "6. \"“Try not to become a man of success. Rather become a man of value.”\" - Albert Einstein\n",
      "   Tags: adulthood, success, value\n",
      "\n",
      "7. \"“It is better to be hated for what you are than to be loved for what you are not.”\" - André Gide\n",
      "   Tags: life, love\n",
      "\n",
      "8. \"“I have not failed. I've just found 10,000 ways that won't work.”\" - Thomas A. Edison\n",
      "   Tags: edison, failure, inspirational, paraphrased\n",
      "\n",
      "9. \"“A woman is like a tea bag; you never know how strong it is until it's in hot water.”\" - Eleanor Roosevelt\n",
      "   Tags: misattributed-eleanor-roosevelt\n",
      "\n",
      "10. \"“A day without sunshine is like, you know, night.”\" - Steve Martin\n",
      "   Tags: humor, obvious, simile\n",
      "\n"
     ]
    }
   ],
   "source": [
    "# URL of the quotes website\n",
    "url = \"http://quotes.toscrape.com/\"\n",
    "\n",
    "# Send a GET request to the website\n",
    "response = requests.get(url)\n",
    "\n",
    "# Parse the page content using BeautifulSoup\n",
    "soup = BeautifulSoup(response.text, 'html.parser')\n",
    "\n",
    "# Find all quote containers\n",
    "quotes = soup.find_all('div', class_='quote')\n",
    "\n",
    "# Loop through each quote and extract the text, author, and tags\n",
    "quotes_list = []\n",
    "for quote in quotes:\n",
    "    text = quote.find('span', class_='text').text\n",
    "    author = quote.find('small', class_='author').text\n",
    "    tags = [tag.text for tag in quote.find_all('a', class_='tag')]\n",
    "    \n",
    "    # Store the data in a dictionary\n",
    "    quotes_list.append({\n",
    "        'text': text,\n",
    "        'author': author,\n",
    "        'tags': tags\n",
    "    })\n",
    "\n",
    "# Display the results\n",
    "for idx, quote in enumerate(quotes_list, start=1):\n",
    "    print(f\"{idx}. \\\"{quote['text']}\\\" - {quote['author']}\")\n",
    "    print(f\"   Tags: {', '.join(quote['tags'])}\")\n",
    "    print()"
   ]
  },
  {
   "cell_type": "code",
   "execution_count": null,
   "id": "db7d60dd-0d98-4f4b-88e3-319014a98e23",
   "metadata": {},
   "outputs": [],
   "source": []
  }
 ],
 "metadata": {
  "kernelspec": {
   "display_name": "Python 3 (ipykernel)",
   "language": "python",
   "name": "python3"
  },
  "language_info": {
   "codemirror_mode": {
    "name": "ipython",
    "version": 3
   },
   "file_extension": ".py",
   "mimetype": "text/x-python",
   "name": "python",
   "nbconvert_exporter": "python",
   "pygments_lexer": "ipython3",
   "version": "3.13.3"
  }
 },
 "nbformat": 4,
 "nbformat_minor": 5
}
